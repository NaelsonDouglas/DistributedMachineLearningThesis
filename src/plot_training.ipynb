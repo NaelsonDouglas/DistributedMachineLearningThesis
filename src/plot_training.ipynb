{
 "cells": [
  {
   "cell_type": "code",
   "execution_count": 1,
   "metadata": {
    "collapsed": false
   },
   "outputs": [
    {
     "name": "stdout",
     "output_type": "stream",
     "text": [
      "Configuring Mocha...\n"
     ]
    },
    {
     "name": "stderr",
     "output_type": "stream",
     "text": [
      "WARNING: Method definition warn(Any...) in module Base at util.jl:364 overwritten in module Logging at /home/jpavez/.julia/v0.4/Logging/src/Logging.jl:115.\n",
      "WARNING: Method definition info(Any...) in module Base at util.jl:334 overwritten in module Logging at /home/jpavez/.julia/v0.4/Logging/src/Logging.jl:115.\n"
     ]
    },
    {
     "name": "stdout",
     "output_type": "stream",
     "text": [
      " * CUDA       disabled by default\n",
      " * Native Ext disabled by default\n",
      "Mocha configured, continue loading module...\n",
      "DefaultBackend = Mocha.CPUBackend\n"
     ]
    }
   ],
   "source": [
    "using Clustering\n",
    "using Mocha\n",
    "using MultivariateStats\n",
    "using JLD\n",
    "using StatsBase\n",
    "using Distributions\n",
    "using Plots"
   ]
  },
  {
   "cell_type": "code",
   "execution_count": 2,
   "metadata": {
    "collapsed": false
   },
   "outputs": [
    {
     "data": {
      "text/plain": [
       "create_safe_files (generic function with 1 method)"
      ]
     },
     "execution_count": 2,
     "metadata": {},
     "output_type": "execute_result"
    }
   ],
   "source": [
    "function read_stats(fname)\n",
    "  stats = jldopen(fname, \"r\") do file\n",
    "    read(file, \"statistics\")\n",
    "  end\n",
    "  return stats\n",
    "end\n",
    "\n",
    "function number_stats(fnames, names)\n",
    "  res = Any[]\n",
    "  for (i, fname) in enumerate(fnames)\n",
    "    for name in names[i]\n",
    "      push!(res, (i, fname, name))\n",
    "    end\n",
    "  end\n",
    "  return res\n",
    "end\n",
    "\n",
    "function list_stats(numbered_names)\n",
    "  println(\"Listing available statistics\")\n",
    "  for (k, (_, fname, name)) in enumerate(numbered_names)\n",
    "    println(\"  $k : $fname/$name\")\n",
    "  end\n",
    "  println(\"Select statistics to plot using -i and specify the numbers 1-$(length(numbered_names)) seperated with ,\")\n",
    "end\n",
    "\n",
    "function create_safe_files(fnames, to_tmp)\n",
    "  # copy to temporary file if requested\n",
    "  if to_tmp\n",
    "    stats_files = [tempname() for fname in fnames]\n",
    "    for (tmpfile,fname) in zip(stats_files, fnames)\n",
    "      cp(fname, tmpfile)\n",
    "    end\n",
    "    return stats_files\n",
    "  else\n",
    "    return fnames\n",
    "  end\n",
    "end"
   ]
  },
  {
   "cell_type": "code",
   "execution_count": 7,
   "metadata": {
    "collapsed": false
   },
   "outputs": [
    {
     "data": {
      "text/plain": [
       "2-element Array{Any,1}:\n",
       " (1,\"Snapshots/snapshots_2/statistics.jld\",\"obj_val\")         \n",
       " (1,\"Snapshots/snapshots_2/statistics.jld\",\"loss-square-loss\")"
      ]
     },
     "execution_count": 7,
     "metadata": {},
     "output_type": "execute_result"
    }
   ],
   "source": [
    "filenames = [\"Snapshots/snapshots_2/statistics.jld\"]\n",
    "stats_files = create_safe_files(filenames, true)\n",
    "all_stats = map(read_stats, stats_files)\n",
    "# get all unique statistic names that were logged in each files\n",
    "names = map(keys, all_stats)\n",
    "# and assign a number to each\n",
    "numbered_names = number_stats(filenames, names)"
   ]
  },
  {
   "cell_type": "code",
   "execution_count": 8,
   "metadata": {
    "collapsed": false
   },
   "outputs": [
    {
     "data": {
      "text/plain": [
       "Dict{Int64,AbstractFloat} with 11 entries:\n",
       "  10000 => 0.004618188736333279\n",
       "  7000  => 0.004607412313617488\n",
       "  9000  => 0.004607930012602271\n",
       "  0     => 0.2804587703708019\n",
       "  5000  => 0.00460242222405737\n",
       "  1000  => 0.0046373656460013115\n",
       "  2000  => 0.004580955745954899\n",
       "  4000  => 0.00459505136293553\n",
       "  8000  => 0.0046072607577528225\n",
       "  6000  => 0.004605954664555123\n",
       "  3000  => 0.004587174800709124"
      ]
     },
     "execution_count": 8,
     "metadata": {},
     "output_type": "execute_result"
    }
   ],
   "source": [
    "(stats_num, fname, selected) = numbered_names[1]\n",
    "stats = all_stats[stats_num][selected]"
   ]
  },
  {
   "cell_type": "code",
   "execution_count": 9,
   "metadata": {
    "collapsed": false
   },
   "outputs": [],
   "source": [
    "x = []\n",
    "y = []\n",
    "sorted_values = sort(collect(keys(stats)))\n",
    "for v in sorted_values\n",
    "    push!(x,v)\n",
    "    push!(y,stats[v])\n",
    "end\n",
    "#x = collect(keys(stats))\n",
    "#y = collect(values(stats))"
   ]
  },
  {
   "cell_type": "code",
   "execution_count": 10,
   "metadata": {
    "collapsed": false
   },
   "outputs": [
    {
     "data": {
      "text/html": [
       "<script src=\"/home/jpavez/.julia/v0.4/Plots/deps/plotly-latest.min.js\"></script>    <div id=\"0f323469-607e-4d00-a958-6bab74a6af4c\" style=\"width:600px;height:400px;\"></div>\n",
       "    <script>\n",
       "    PLOT = document.getElementById('0f323469-607e-4d00-a958-6bab74a6af4c');\n",
       "    Plotly.plot(PLOT, [{\"yaxis\":\"y\",\"y\":[0.2804587703708019,0.0046373656460013115,0.004580955745954899,0.004587174800709124,0.00459505136293553,0.00460242222405737,0.004605954664555123,0.004607412313617488,0.0046072607577528225,0.004607930012602271,0.004618188736333279],\"showlegend\":true,\"name\":\"y1\",\"type\":\"scatter\",\"xaxis\":\"x\",\"line\":{\"width\":1,\"dash\":\"solid\",\"color\":\"rgba(0, 154, 250, 1.000)\",\"shape\":\"linear\"},\"x\":[0.0,1000.0,2000.0,3000.0,4000.0,5000.0,6000.0,7000.0,8000.0,9000.0,10000.0],\"mode\":\"lines\"}], {\"yaxis\":{\"type\":\"-\",\"titlefont\":{\"size\":15,\"color\":\"rgba(0, 0, 0, 1.000)\",\"family\":\"Helvetica\"},\"title\":\"\",\"tickfont\":{\"size\":11,\"color\":\"rgba(0, 0, 0, 1.000)\",\"family\":\"Helvetica\"},\"tickmode\":\"array\",\"showgrid\":true,\"tickvals\":[0.1,0.2],\"domain\":[0.057305336832895896,0.9901574803149605],\"ticktext\":[\"0.1\",\"0.2\"],\"zeroline\":false,\"linecolor\":\"rgba(0, 0, 0, 1.000)\",\"tickcolor\":\"rgba(0, 0, 0, 1.000)\",\"anchor\":\"x\"},\"annotations\":[],\"width\":600,\"plot_bgcolor\":\"rgba(255, 255, 255, 1.000)\",\"showlegend\":true,\"legend\":{\"bgcolor\":\"rgba(255, 255, 255, 1.000)\",\"font\":{\"size\":11,\"color\":\"rgba(0, 0, 0, 1.000)\",\"family\":\"Helvetica\"},\"bordercolor\":\"rgba(0, 0, 0, 1.000)\"},\"xaxis\":{\"type\":\"-\",\"titlefont\":{\"size\":15,\"color\":\"rgba(0, 0, 0, 1.000)\",\"family\":\"Helvetica\"},\"title\":\"\",\"tickfont\":{\"size\":11,\"color\":\"rgba(0, 0, 0, 1.000)\",\"family\":\"Helvetica\"},\"tickmode\":\"array\",\"showgrid\":true,\"tickvals\":[0.0,2000.0,4000.0,6000.0,8000.0,10000.0],\"domain\":[0.05905511811023622,0.9934383202099738],\"ticktext\":[\"0\",\"2000\",\"4000\",\"6000\",\"8000\",\"10000\"],\"zeroline\":false,\"linecolor\":\"rgba(0, 0, 0, 1.000)\",\"tickcolor\":\"rgba(0, 0, 0, 1.000)\",\"anchor\":\"y\"},\"paper_bgcolor\":\"rgba(255, 255, 255, 1.000)\",\"height\":400,\"margin\":{\"r\":0,\"l\":0,\"b\":0,\"t\":20}});\n",
       "    </script>\n"
      ]
     },
     "execution_count": 10,
     "metadata": {},
     "output_type": "execute_result"
    }
   ],
   "source": [
    "plot(x,y)"
   ]
  },
  {
   "cell_type": "code",
   "execution_count": null,
   "metadata": {
    "collapsed": true
   },
   "outputs": [],
   "source": []
  }
 ],
 "metadata": {
  "kernelspec": {
   "display_name": "Julia 0.4.5",
   "language": "julia",
   "name": "julia-0.4"
  },
  "language_info": {
   "file_extension": ".jl",
   "mimetype": "application/julia",
   "name": "julia",
   "version": "0.4.5"
  }
 },
 "nbformat": 4,
 "nbformat_minor": 0
}
