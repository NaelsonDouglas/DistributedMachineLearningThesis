{
 "cells": [
  {
   "cell_type": "code",
   "execution_count": 1,
   "metadata": {
    "collapsed": false
   },
   "outputs": [
    {
     "name": "stdout",
     "output_type": "stream",
     "text": [
      "Configuring Mocha...\n",
      " * CUDA       disabled by default\n",
      " * Native Ext disabled by default\n",
      "Mocha configured, continue loading module...\n"
     ]
    },
    {
     "name": "stderr",
     "output_type": "stream",
     "text": [
      "WARNING: Method definition warn(Any...) in module Base at util.jl:364 overwritten in module Logging at /home/jpavez/.julia/v0.4/Logging/src/Logging.jl:115.\n",
      "WARNING: Method definition info(Any...) in module Base at util.jl:334 overwritten in module Logging at /home/jpavez/.julia/v0.4/Logging/src/Logging.jl:115.\n"
     ]
    },
    {
     "name": "stdout",
     "output_type": "stream",
     "text": [
      "DefaultBackend = Mocha.CPUBackend\n"
     ]
    }
   ],
   "source": [
    "using Clustering\n",
    "using Mocha\n",
    "using MultivariateStats\n",
    "using JLD\n",
    "using Debug\n",
    "using StatsBase\n",
    "using Distributions"
   ]
  },
  {
   "cell_type": "code",
   "execution_count": 2,
   "metadata": {
    "collapsed": false
   },
   "outputs": [],
   "source": [
    "file=\"dataset_config.txt\"\n",
    "f = open(\"Data\"*\"/\"*file, \"r\")\n",
    "for l in eachline(f)\n",
    "    config = copy(l)\n",
    "    break\n",
    "end"
   ]
  },
  {
   "cell_type": "code",
   "execution_count": 3,
   "metadata": {
    "collapsed": false
   },
   "outputs": [
    {
     "ename": "LoadError",
     "evalue": "UndefVarError: config not defined",
     "output_type": "error",
     "traceback": [
      "UndefVarError: config not defined",
      ""
     ]
    }
   ],
   "source": [
    "positions, distributions = split(config, \"|\")\n",
    "positions = map(x->parse(Float64, x), split(positions,','))\n",
    "distributions = split(replace(distributions, \"\\n\", \"\"), \",\")\n",
    "#print(positions)"
   ]
  },
  {
   "cell_type": "code",
   "execution_count": 2,
   "metadata": {
    "collapsed": false
   },
   "outputs": [
    {
     "ename": "LoadError",
     "evalue": "UndefVarError: @debug not defined",
     "output_type": "error",
     "traceback": [
      "UndefVarError: @debug not defined",
      ""
     ]
    }
   ],
   "source": [
    "@debug function read_stats(fname)\n",
    "  stats = jldopen(fname, \"r\") do file\n",
    "    read(file, \"statistics\")\n",
    "  end\n",
    "  return stats\n",
    "end\n",
    "\n",
    "function number_stats(fnames, names)\n",
    "  res = Any[]\n",
    "  for (i, fname) in enumerate(fnames)\n",
    "    for name in names[i]\n",
    "      push!(res, (i, fname, name))\n",
    "    end\n",
    "  end\n",
    "  return res\n",
    "end\n",
    "\n",
    "function list_stats(numbered_names)\n",
    "  println(\"Listing available statistics\")\n",
    "  for (k, (_, fname, name)) in enumerate(numbered_names)\n",
    "    println(\"  $k : $fname/$name\")\n",
    "  end\n",
    "  println(\"Select statistics to plot using -i and specify the numbers 1-$(length(numbered_names)) seperated with ,\")\n",
    "end\n",
    "\n",
    "function create_safe_files(fnames, to_tmp)\n",
    "  # copy to temporary file if requested\n",
    "  if to_tmp\n",
    "    stats_files = [tempname() for fname in fnames]\n",
    "    for (tmpfile,fname) in zip(stats_files, fnames)\n",
    "      cp(fname, tmpfile)\n",
    "    end\n",
    "    return stats_files\n",
    "  else\n",
    "    return fnames\n",
    "  end\n",
    "end"
   ]
  },
  {
   "cell_type": "code",
   "execution_count": 1,
   "metadata": {
    "collapsed": false
   },
   "outputs": [
    {
     "ename": "LoadError",
     "evalue": "UndefVarError: create_safe_files not defined",
     "output_type": "error",
     "traceback": [
      "UndefVarError: create_safe_files not defined",
      ""
     ]
    }
   ],
   "source": [
    "filenames = [\"Snapshots/snapshots_2/snapshot-000000.jld\", \"Snapshots/snapshots_2/snapshot-001000.jld\"]\n",
    "stats_files = create_safe_files(filenames, true)\n",
    "all_stats = map(read_stats, stats_files)\n",
    "# get all unique statistic names that were logged in each files\n",
    "#names = map(keys, all_stats)\n",
    "# and assign a number to each\n",
    "#numbered_names = number_stats(filenames, names)"
   ]
  },
  {
   "cell_type": "code",
   "execution_count": null,
   "metadata": {
    "collapsed": true
   },
   "outputs": [],
   "source": []
  },
  {
   "cell_type": "code",
   "execution_count": 29,
   "metadata": {
    "collapsed": false
   },
   "outputs": [
    {
     "data": {
      "text/plain": [
       "Julia data file version 0.1.1: Snapshots/snapshots_2/snapshot-000000.jld"
      ]
     },
     "execution_count": 29,
     "metadata": {},
     "output_type": "execute_result"
    }
   ],
   "source": [
    "file = jldopen(filenames[1])"
   ]
  },
  {
   "cell_type": "code",
   "execution_count": 40,
   "metadata": {
    "collapsed": false
   },
   "outputs": [
    {
     "ename": "LoadError",
     "evalue": "MethodError: `keys` has no method matching keys(::Mocha.AdamSolverStateSnapshot)",
     "output_type": "error",
     "traceback": [
      "MethodError: `keys` has no method matching keys(::Mocha.AdamSolverStateSnapshot)",
      ""
     ]
    }
   ],
   "source": [
    "stats = read(file, \"solver_state\")\n",
    "keys(stats)"
   ]
  },
  {
   "cell_type": "code",
   "execution_count": 4,
   "metadata": {
    "collapsed": false
   },
   "outputs": [
    {
     "name": "stdout",
     "output_type": "stream",
     "text": [
      "elapsed time: 0.011958373 seconds\n"
     ]
    },
    {
     "data": {
      "text/plain": [
       "0.011958373"
      ]
     },
     "execution_count": 4,
     "metadata": {},
     "output_type": "execute_result"
    }
   ],
   "source": [
    "tic()\n",
    "a = 2\n",
    "time = toc()"
   ]
  },
  {
   "cell_type": "code",
   "execution_count": 5,
   "metadata": {
    "collapsed": true
   },
   "outputs": [],
   "source": [
    "@everywhere function R2(predictions, y)\n",
    "    SSres = sum((predictions .- y).^2)\n",
    "    ymean = mean(y)\n",
    "    SStot = sum((y .- ymean).^2)\n",
    "    return 1 - (SSres/SStot)\n",
    "end"
   ]
  },
  {
   "cell_type": "code",
   "execution_count": 9,
   "metadata": {
    "collapsed": false
   },
   "outputs": [
    {
     "data": {
      "text/plain": [
       "-3.0"
      ]
     },
     "execution_count": 9,
     "metadata": {},
     "output_type": "execute_result"
    }
   ],
   "source": [
    "y_true = [3., -0.5, 2., 7.]\n",
    "y_pred = [2.5, 0.0, 2., 8,]\n",
    "#R2(y_pred, y_true)\n",
    "y_true = [1.,2.,3.]\n",
    "y_pred = [1.,2.,3.]\n",
    "#R2(y_pred, y_true)\n",
    "y_true = [1,2,3]\n",
    "y_pred = [3,2,1]\n",
    "R2(y_pred, y_true)"
   ]
  },
  {
   "cell_type": "code",
   "execution_count": 5,
   "metadata": {
    "collapsed": false
   },
   "outputs": [
    {
     "data": {
      "text/plain": [
       "0.00027987"
      ]
     },
     "execution_count": 5,
     "metadata": {},
     "output_type": "execute_result"
    }
   ],
   "source": [
    "time"
   ]
  },
  {
   "cell_type": "code",
   "execution_count": 5,
   "metadata": {
    "collapsed": false
   },
   "outputs": [
    {
     "data": {
      "text/plain": [
       "2.0"
      ]
     },
     "execution_count": 5,
     "metadata": {},
     "output_type": "execute_result"
    }
   ],
   "source": [
    "nodes = 10\n",
    "num_nodes = 2\n",
    "all_nodes = collect(1:nodes)\n",
    "modes = ceil(nodes / num_nodes)\n",
    "nodes_mean = float(all_nodes%num_nodes)\n",
    "positions = [2.,10.]\n",
    "positions[Int(nodes_mean[2]) + 1]"
   ]
  },
  {
   "cell_type": "code",
   "execution_count": 6,
   "metadata": {
    "collapsed": false
   },
   "outputs": [],
   "source": [
    "@everywhere generate_inputs(mean, var, data_size) = transpose(rand(MvNormal(mean, var), data_size))\n",
    "\n",
    "@everywhere f10(x) = 10.*sin(pi.*x[:,1].*x[:,2]) + \n",
    "                20(x[:,3]-0.5).^2 + 10.*x[:,4] + 5.*x[:,5] + \n",
    "                10.*sin(pi.*x[:,6].*x[:,7]) + 20(x[:,8]-0.5).^2 + 10.*x[:,9] + 5.*x[:,10] + rand(Normal(0,0.1),size(x[:,1])[1])\n"
   ]
  },
  {
   "cell_type": "code",
   "execution_count": 7,
   "metadata": {
    "collapsed": false
   },
   "outputs": [
    {
     "data": {
      "text/plain": [
       "1000-element Array{Float64,1}:\n",
       "  96.5198\n",
       "  47.4839\n",
       " 288.521 \n",
       " 145.569 \n",
       " 205.123 \n",
       " 279.051 \n",
       " 196.055 \n",
       " 233.84  \n",
       " 363.969 \n",
       " 110.278 \n",
       " 276.017 \n",
       " 156.425 \n",
       " 137.808 \n",
       "   ⋮     \n",
       "  43.8109\n",
       " 109.312 \n",
       " 169.719 \n",
       " 400.734 \n",
       " 148.055 \n",
       "  84.922 \n",
       " 201.459 \n",
       " 322.889 \n",
       " 241.008 \n",
       " 308.054 \n",
       " 101.155 \n",
       "  59.9231"
      ]
     },
     "execution_count": 7,
     "metadata": {},
     "output_type": "execute_result"
    }
   ],
   "source": [
    "data_size = 1000\n",
    "node_id = 1\n",
    "dim = 10\n",
    "\n",
    "# introspecting the output_function, we want to know how many parameters it has\n",
    "\n",
    "mod_node = float(node_id % num_nodes)\n",
    "#dim = out_fn_table.max_args\n",
    "\n",
    "mean_vector = Array{Float32}([2.*m for m in fill(mod_node, dim)])\n",
    "var_vector = eye(dim, dim)\n",
    "dataset_input = generate_inputs(mean_vector, var_vector, data_size)\n",
    "dataset_output = f10(dataset_input)"
   ]
  },
  {
   "cell_type": "code",
   "execution_count": 8,
   "metadata": {
    "collapsed": false
   },
   "outputs": [
    {
     "name": "stdout",
     "output_type": "stream",
     "text": [
      "(1000,10)(1000,)"
     ]
    }
   ],
   "source": [
    "print(size(dataset_input))\n",
    "print(size(dataset_output))"
   ]
  },
  {
   "cell_type": "code",
   "execution_count": 12,
   "metadata": {
    "collapsed": false
   },
   "outputs": [
    {
     "data": {
      "text/plain": [
       "1000x2 Array{Float64,2}:\n",
       " 18.092   19.5131\n",
       " 21.2438  18.4354\n",
       " 20.3029  20.3655\n",
       " 20.9166  20.7453\n",
       " 20.7784  19.1501\n",
       " 19.327   19.1952\n",
       " 22.0112  19.9879\n",
       " 21.0678  21.8934\n",
       " 19.5748  21.0012\n",
       " 20.4838  19.1972\n",
       " 20.3545  19.6601\n",
       " 20.038   20.4165\n",
       " 20.5155  19.304 \n",
       "  ⋮              \n",
       " 19.7158  19.7166\n",
       " 20.8446  20.824 \n",
       " 20.5635  20.5587\n",
       " 18.6909  19.4831\n",
       " 19.5611  19.152 \n",
       " 20.1026  19.8798\n",
       " 20.8072  19.9847\n",
       " 19.2487  20.9038\n",
       " 19.7839  20.3304\n",
       " 20.9284  21.1377\n",
       " 18.2764  19.9181\n",
       " 18.6732  20.0687"
      ]
     },
     "execution_count": 12,
     "metadata": {},
     "output_type": "execute_result"
    }
   ],
   "source": [
    "id = \"3\"\n",
    "input_data = load(\"Data/data_\"*id*\"/input.jld\", \"dataset_input\")\n",
    "dataset1 = input_data\n",
    "#id = \"5\"\n",
    "#input_data = load(\"Data/data_\"*id*\"/input.jld\", \"dataset_input\")\n",
    "#dataset2 = input_data"
   ]
  },
  {
   "cell_type": "code",
   "execution_count": 13,
   "metadata": {
    "collapsed": true
   },
   "outputs": [],
   "source": [
    "dataset = input_data\n",
    "examples, attributes = try\n",
    "    e, a = size(dataset)\n",
    "catch\n",
    "    e, a = (size(dataset)[1], 1)\n",
    "end\n",
    "data = tuple(dataset[:,1])\n",
    "for attribute in 2:attributes\n",
    "    data = tuple(data..., dataset[:,attribute])\n",
    "end"
   ]
  },
  {
   "cell_type": "markdown",
   "metadata": {},
   "source": [
    "# Test training classifier"
   ]
  },
  {
   "cell_type": "code",
   "execution_count": 14,
   "metadata": {
    "collapsed": false
   },
   "outputs": [],
   "source": [
    "@everywhere function shufflerows!{T<:Real}(a::AbstractArray{T})\n",
    "    for i = size(a, 1):-1:2\n",
    "        j = rand(1:i)\n",
    "        a[i,:], a[j,:] = a[j,:], a[i,:]\n",
    "    end\n",
    "    return a\n",
    "end"
   ]
  },
  {
   "cell_type": "code",
   "execution_count": 18,
   "metadata": {
    "collapsed": false
   },
   "outputs": [
    {
     "data": {
      "text/plain": [
       "1000x3 Array{Float64,2}:\n",
       " 18.092   19.5131  -0.0409736 \n",
       " 21.2438  18.4354  -0.0551551 \n",
       " 20.3029  20.3655   0.123257  \n",
       " 20.9166  20.7453  -0.111415  \n",
       " 20.7784  19.1501  -0.112851  \n",
       " 19.327   19.1952  -0.0686609 \n",
       " 22.0112  19.9879   0.0690002 \n",
       " 21.0678  21.8934   0.0646539 \n",
       " 19.5748  21.0012  -0.0931039 \n",
       " 20.4838  19.1972  -0.0927132 \n",
       " 20.3545  19.6601  -0.0336073 \n",
       " 20.038   20.4165   0.136934  \n",
       " 20.5155  19.304    0.00807034\n",
       "  ⋮                           \n",
       " 19.7158  19.7166   0.0590312 \n",
       " 20.8446  20.824   -0.046732  \n",
       " 20.5635  20.5587  -0.114331  \n",
       " 18.6909  19.4831   0.0670901 \n",
       " 19.5611  19.152    0.0287877 \n",
       " 20.1026  19.8798  -0.120648  \n",
       " 20.8072  19.9847  -0.14126   \n",
       " 19.2487  20.9038  -0.0178737 \n",
       " 19.7839  20.3304   0.0456328 \n",
       " 20.9284  21.1377   0.173695  \n",
       " 18.2764  19.9181   0.0232349 \n",
       " 18.6732  20.0687  -0.0632176 "
      ]
     },
     "execution_count": 18,
     "metadata": {},
     "output_type": "execute_result"
    }
   ],
   "source": [
    "id = string(3)\n",
    "datainput = load(\"Data/data_\"*id*\"/input.jld\", \"dataset_input\")\n",
    "datalabels = load(\"Data/data_\"*id*\"/output.jld\", \"dataset_output\")\n",
    "\n",
    "dataset=[datainput datalabels]\n"
   ]
  },
  {
   "cell_type": "code",
   "execution_count": 19,
   "metadata": {
    "collapsed": false
   },
   "outputs": [
    {
     "data": {
      "text/plain": [
       "1000x2 Array{Float64,2}:\n",
       " -2.06552    -0.49522   \n",
       "  1.30591    -1.60276   \n",
       "  0.299427    0.380698  \n",
       "  0.955845    0.770965  \n",
       "  0.808033   -0.86833   \n",
       " -0.744503   -0.821969  \n",
       "  2.12676    -0.00738603\n",
       "  1.11759     1.95081   \n",
       " -0.479377    1.03398   \n",
       "  0.49292    -0.819895  \n",
       "  0.354637   -0.344176  \n",
       "  0.0161273   0.433077  \n",
       "  0.526793   -0.710129  \n",
       "  ⋮                     \n",
       " -0.328548   -0.286089  \n",
       "  0.878822    0.851914  \n",
       "  0.578217    0.579278  \n",
       " -1.42489    -0.526093  \n",
       " -0.49407    -0.86632   \n",
       "  0.0851396  -0.11839   \n",
       "  0.83881    -0.0106057 \n",
       " -0.828196    0.933892  \n",
       " -0.255749    0.344616  \n",
       "  0.968485    1.17424   \n",
       " -1.86829    -0.0790969 \n",
       " -1.44382     0.0756735 "
      ]
     },
     "execution_count": 19,
     "metadata": {},
     "output_type": "execute_result"
    }
   ],
   "source": [
    "(datainput .- mean(datainput, 1)) ./ var(datainput, 1)"
   ]
  },
  {
   "cell_type": "code",
   "execution_count": 24,
   "metadata": {
    "collapsed": false
   },
   "outputs": [],
   "source": [
    "stats = [mean(datainput, 1); var(datainput, 1)]\n",
    "if !isdir(\"Data/stats_\"*id)\n",
    "    mkdir(\"Data/stats_\"*id)\n",
    "end\n",
    "save(\"Data/stats_\"*id*\"/stats_train.jld\", \"stats_train\", stats)\n"
   ]
  },
  {
   "cell_type": "code",
   "execution_count": 22,
   "metadata": {
    "collapsed": false
   },
   "outputs": [
    {
     "name": "stdout",
     "output_type": "stream",
     "text": [
      "[20.022969867970673 19.995040160374355][0.9348724484597412 0.973102539512446]"
     ]
    }
   ],
   "source": [
    "means = stats[1,:]\n",
    "vars = stats[2,:]\n",
    "print(means)\n",
    "print(vars)"
   ]
  },
  {
   "cell_type": "code",
   "execution_count": 27,
   "metadata": {
    "collapsed": false
   },
   "outputs": [
    {
     "data": {
      "text/plain": [
       "2x2 Array{Float64,2}:\n",
       " 0.0224807  0.0391242\n",
       " 0.942183   1.02276  "
      ]
     },
     "execution_count": 27,
     "metadata": {},
     "output_type": "execute_result"
    }
   ],
   "source": [
    "stats = load(\"Data/stats_\"*id*\"/stats_train.jld\", \"stats_train\")"
   ]
  },
  {
   "cell_type": "code",
   "execution_count": 25,
   "metadata": {
    "collapsed": true
   },
   "outputs": [],
   "source": [
    "@everywhere function compute_stats_train(datainput)\n",
    "    id = string(myid())\n",
    "    stats = [mean(datainput, 1); var(datainput, 1)]\n",
    "    if !isdir(\"Data/stats_\"*id)\n",
    "        mkdir(\"Data/stats_\"*id)\n",
    "    end\n",
    "    save(\"Data/stats_\"*id*\"/stats_train.jld\", \"stats_train\", stats)\n",
    "    return stats\n",
    "end\n",
    "\n",
    "@everywhere function read_stats_train()\n",
    "    id = string(myid()) \n",
    "    stats = load(\"Data/stats_\"*id*\"/stats_train.jld\", \"stats_train\")\n",
    "    return stats\n",
    "end\n",
    "\n",
    "@everywhere function standarize_dataset(datainput, stats)\n",
    "    means = stats[1,:]\n",
    "    vars = stats[2,:]\n",
    "    datainput_standard = (datainput .- means) ./ vars\n",
    "    return datainput_standard\n",
    "end"
   ]
  },
  {
   "cell_type": "code",
   "execution_count": 26,
   "metadata": {
    "collapsed": false
   },
   "outputs": [
    {
     "data": {
      "text/plain": [
       "2x2 Array{Float64,2}:\n",
       " 20.023     19.995   \n",
       "  0.934872   0.973103"
      ]
     },
     "execution_count": 26,
     "metadata": {},
     "output_type": "execute_result"
    }
   ],
   "source": [
    "stats = compute_stats_train(datainput)\n"
   ]
  },
  {
   "cell_type": "code",
   "execution_count": 27,
   "metadata": {
    "collapsed": false
   },
   "outputs": [
    {
     "data": {
      "text/plain": [
       "2x2 Array{Float64,2}:\n",
       " 20.023     19.995   \n",
       "  0.934872   0.973103"
      ]
     },
     "execution_count": 27,
     "metadata": {},
     "output_type": "execute_result"
    }
   ],
   "source": [
    "stats = read_stats_train()"
   ]
  },
  {
   "cell_type": "code",
   "execution_count": 28,
   "metadata": {
    "collapsed": false
   },
   "outputs": [
    {
     "data": {
      "text/plain": [
       "1000x2 Array{Float64,2}:\n",
       " -2.06552    -0.49522   \n",
       "  1.30591    -1.60276   \n",
       "  0.299427    0.380698  \n",
       "  0.955845    0.770965  \n",
       "  0.808033   -0.86833   \n",
       " -0.744503   -0.821969  \n",
       "  2.12676    -0.00738603\n",
       "  1.11759     1.95081   \n",
       " -0.479377    1.03398   \n",
       "  0.49292    -0.819895  \n",
       "  0.354637   -0.344176  \n",
       "  0.0161273   0.433077  \n",
       "  0.526793   -0.710129  \n",
       "  ⋮                     \n",
       " -0.328548   -0.286089  \n",
       "  0.878822    0.851914  \n",
       "  0.578217    0.579278  \n",
       " -1.42489    -0.526093  \n",
       " -0.49407    -0.86632   \n",
       "  0.0851396  -0.11839   \n",
       "  0.83881    -0.0106057 \n",
       " -0.828196    0.933892  \n",
       " -0.255749    0.344616  \n",
       "  0.968485    1.17424   \n",
       " -1.86829    -0.0790969 \n",
       " -1.44382     0.0756735 "
      ]
     },
     "execution_count": 28,
     "metadata": {},
     "output_type": "execute_result"
    }
   ],
   "source": [
    "datainput_st = standarize_dataset(datainput, stats)"
   ]
  },
  {
   "cell_type": "code",
   "execution_count": 29,
   "metadata": {
    "collapsed": false
   },
   "outputs": [
    {
     "data": {
      "text/plain": [
       "1x2 Array{Float64,2}:\n",
       " -7.27129e-15  -2.82602e-15"
      ]
     },
     "execution_count": 29,
     "metadata": {},
     "output_type": "execute_result"
    }
   ],
   "source": [
    "mean(datainput_st, 1)"
   ]
  },
  {
   "cell_type": "code",
   "execution_count": 30,
   "metadata": {
    "collapsed": false
   },
   "outputs": [
    {
     "data": {
      "text/plain": [
       "1x2 Array{Float64,2}:\n",
       " 1.06966  1.02764"
      ]
     },
     "execution_count": 30,
     "metadata": {},
     "output_type": "execute_result"
    }
   ],
   "source": [
    "var(datainput_st, 1)"
   ]
  },
  {
   "cell_type": "code",
   "execution_count": 31,
   "metadata": {
    "collapsed": false
   },
   "outputs": [
    {
     "name": "stdout",
     "output_type": "stream",
     "text": [
      "09-Oct 20:06:55:INFO:root:Constructing net MLP on Mocha.CPUBackend...\n",
      "09-Oct 20:06:55:INFO:root:Topological sorting 5 layers...\n",
      "09-Oct 20:06:55:INFO:root:Setup layers...\n",
      "09-Oct 20:06:55:INFO:root:Network constructed!\n",
      "09-Oct 20:06:55:INFO:root:Constructing net MLP on Mocha.CPUBackend...\n",
      "09-Oct 20:06:55:INFO:root:Topological sorting 5 layers...\n",
      "09-Oct 20:06:55:INFO:root:Setup layers...\n",
      "09-Oct 20:06:56:DEBUG:root:InnerProductLayer(ip): sharing weights and bias\n",
      "09-Oct 20:06:56:DEBUG:root:InnerProductLayer(ip2): sharing weights and bias\n",
      "09-Oct 20:06:56:DEBUG:root:InnerProductLayer(aggregator): sharing weights and bias\n",
      "09-Oct 20:06:56:INFO:root:Network constructed!\n",
      "09-Oct 20:06:56:DEBUG:root:#DEBUG Checking network topology for back-propagation\n",
      "09-Oct 20:06:57:DEBUG:root:Init network MLP\n",
      "09-Oct 20:06:57:DEBUG:root:Init parameter weight for layer ip\n",
      "09-Oct 20:06:57:DEBUG:root:Init parameter bias for layer ip\n",
      "09-Oct 20:06:57:DEBUG:root:Init parameter weight for layer ip2\n",
      "09-Oct 20:06:57:DEBUG:root:Init parameter bias for layer ip2\n",
      "09-Oct 20:06:57:DEBUG:root:Init parameter weight for layer aggregator\n",
      "09-Oct 20:06:57:DEBUG:root:Init parameter bias for layer aggregator\n",
      "09-Oct 20:06:57:DEBUG:root:#DEBUG Initializing coffee breaks\n",
      "09-Oct 20:06:57:DEBUG:root:Init network MLP\n",
      "09-Oct 20:06:57:INFO:root:Snapshot directory Snapshots/snapshots_3 already exists\n",
      "09-Oct 20:06:57:INFO:root: TRAIN iter=000000 obj_val=11.63880910\n",
      "09-Oct 20:06:57:INFO:root:\n",
      "09-Oct 20:06:57:INFO:root:## Performance on Validation Set after 0 iterations\n",
      "09-Oct 20:06:57:INFO:root:---------------------------------------------------------\n",
      "09-Oct 20:06:57:INFO:root:  Square-loss (avg over 200) = 11.7574\n",
      "09-Oct 20:06:57:INFO:root:---------------------------------------------------------\n",
      "09-Oct 20:06:57:INFO:root:\n",
      "09-Oct 20:06:57:INFO:root:Saving snapshot to snapshot-000000.jld...\n",
      "09-Oct 20:06:57:WARNING:root:Overwriting Snapshots/snapshots_3/snapshot-000000.jld...\n",
      "09-Oct 20:06:57:DEBUG:root:Saving parameters for layer ip\n",
      "09-Oct 20:06:58:DEBUG:root:Saving parameters for layer ip2\n",
      "09-Oct 20:06:58:DEBUG:root:Saving parameters for layer aggregator\n",
      "09-Oct 20:06:59:DEBUG:root:#DEBUG Entering solver loop\n",
      "09-Oct 20:07:00:INFO:root: TRAIN iter=001000 obj_val=0.00566528\n",
      "09-Oct 20:07:00:INFO:root:\n",
      "09-Oct 20:07:00:INFO:root:## Performance on Validation Set after 1000 iterations\n",
      "09-Oct 20:07:00:INFO:root:---------------------------------------------------------\n",
      "09-Oct 20:07:00:INFO:root:  Square-loss (avg over 200) = 0.0058\n",
      "09-Oct 20:07:00:INFO:root:---------------------------------------------------------\n",
      "09-Oct 20:07:00:INFO:root:\n",
      "09-Oct 20:07:00:INFO:root:Saving snapshot to snapshot-001000.jld...\n",
      "09-Oct 20:07:00:WARNING:root:Overwriting Snapshots/snapshots_3/snapshot-001000.jld...\n",
      "09-Oct 20:07:00:DEBUG:root:Saving parameters for layer ip\n",
      "09-Oct 20:07:00:DEBUG:root:Saving parameters for layer ip2\n",
      "09-Oct 20:07:00:DEBUG:root:Saving parameters for layer aggregator\n",
      "09-Oct 20:07:00:INFO:root: TRAIN iter=002000 obj_val=0.00517079\n",
      "09-Oct 20:07:00:INFO:root:\n",
      "09-Oct 20:07:00:INFO:root:## Performance on Validation Set after 2000 iterations\n",
      "09-Oct 20:07:00:INFO:root:---------------------------------------------------------\n",
      "09-Oct 20:07:00:INFO:root:  Square-loss (avg over 200) = 0.0055\n",
      "09-Oct 20:07:00:INFO:root:---------------------------------------------------------\n",
      "09-Oct 20:07:00:INFO:root:\n",
      "09-Oct 20:07:00:INFO:root:Saving snapshot to snapshot-002000.jld...\n",
      "09-Oct 20:07:00:WARNING:root:Overwriting Snapshots/snapshots_3/snapshot-002000.jld...\n",
      "09-Oct 20:07:00:DEBUG:root:Saving parameters for layer ip\n",
      "09-Oct 20:07:00:DEBUG:root:Saving parameters for layer ip2\n",
      "09-Oct 20:07:00:DEBUG:root:Saving parameters for layer aggregator\n",
      "09-Oct 20:07:00:INFO:root: TRAIN iter=003000 obj_val=0.00511861\n",
      "09-Oct 20:07:00:INFO:root:\n",
      "09-Oct 20:07:00:INFO:root:## Performance on Validation Set after 3000 iterations\n",
      "09-Oct 20:07:00:INFO:root:---------------------------------------------------------\n",
      "09-Oct 20:07:00:INFO:root:  Square-loss (avg over 200) = 0.0055\n",
      "09-Oct 20:07:00:INFO:root:---------------------------------------------------------\n",
      "09-Oct 20:07:00:INFO:root:\n",
      "09-Oct 20:07:00:INFO:root:Saving snapshot to snapshot-003000.jld...\n",
      "09-Oct 20:07:00:WARNING:root:Overwriting Snapshots/snapshots_3/snapshot-003000.jld...\n",
      "09-Oct 20:07:00:DEBUG:root:Saving parameters for layer ip\n",
      "09-Oct 20:07:00:DEBUG:root:Saving parameters for layer ip2\n",
      "09-Oct 20:07:00:DEBUG:root:Saving parameters for layer aggregator\n",
      "09-Oct 20:07:00:INFO:root: TRAIN iter=004000 obj_val=0.00510878\n",
      "09-Oct 20:07:00:INFO:root:\n",
      "09-Oct 20:07:00:INFO:root:## Performance on Validation Set after 4000 iterations\n",
      "09-Oct 20:07:00:INFO:root:---------------------------------------------------------\n",
      "09-Oct 20:07:00:INFO:root:  Square-loss (avg over 200) = 0.0055\n",
      "09-Oct 20:07:00:INFO:root:---------------------------------------------------------\n",
      "09-Oct 20:07:00:INFO:root:\n",
      "09-Oct 20:07:00:INFO:root:Saving snapshot to snapshot-004000.jld...\n",
      "09-Oct 20:07:00:WARNING:root:Overwriting Snapshots/snapshots_3/snapshot-004000.jld...\n",
      "09-Oct 20:07:00:DEBUG:root:Saving parameters for layer ip\n",
      "09-Oct 20:07:00:DEBUG:root:Saving parameters for layer ip2\n",
      "09-Oct 20:07:00:DEBUG:root:Saving parameters for layer aggregator\n",
      "09-Oct 20:07:00:INFO:root: TRAIN iter=005000 obj_val=0.00510480\n",
      "09-Oct 20:07:00:INFO:root:\n",
      "09-Oct 20:07:00:INFO:root:## Performance on Validation Set after 5000 iterations\n",
      "09-Oct 20:07:00:INFO:root:---------------------------------------------------------\n",
      "09-Oct 20:07:00:INFO:root:  Square-loss (avg over 200) = 0.0055\n",
      "09-Oct 20:07:00:INFO:root:---------------------------------------------------------\n",
      "09-Oct 20:07:00:INFO:root:\n",
      "09-Oct 20:07:00:INFO:root:Saving snapshot to snapshot-005000.jld...\n",
      "09-Oct 20:07:00:WARNING:root:Overwriting Snapshots/snapshots_3/snapshot-005000.jld...\n",
      "09-Oct 20:07:00:DEBUG:root:Saving parameters for layer ip\n",
      "09-Oct 20:07:00:DEBUG:root:Saving parameters for layer ip2\n",
      "09-Oct 20:07:00:DEBUG:root:Saving parameters for layer aggregator\n",
      "09-Oct 20:07:00:INFO:root: TRAIN iter=006000 obj_val=0.00510218\n",
      "09-Oct 20:07:00:INFO:root:\n",
      "09-Oct 20:07:00:INFO:root:## Performance on Validation Set after 6000 iterations\n",
      "09-Oct 20:07:00:INFO:root:---------------------------------------------------------\n",
      "09-Oct 20:07:00:INFO:root:  Square-loss (avg over 200) = 0.0055\n",
      "09-Oct 20:07:00:INFO:root:---------------------------------------------------------\n",
      "09-Oct 20:07:00:INFO:root:\n",
      "09-Oct 20:07:00:INFO:root:Saving snapshot to snapshot-006000.jld...\n",
      "09-Oct 20:07:00:WARNING:root:Overwriting Snapshots/snapshots_3/snapshot-006000.jld...\n",
      "09-Oct 20:07:00:DEBUG:root:Saving parameters for layer ip\n",
      "09-Oct 20:07:00:DEBUG:root:Saving parameters for layer ip2\n",
      "09-Oct 20:07:00:DEBUG:root:Saving parameters for layer aggregator\n",
      "09-Oct 20:07:01:INFO:root: TRAIN iter=007000 obj_val=0.00510012\n",
      "09-Oct 20:07:01:INFO:root:\n",
      "09-Oct 20:07:01:INFO:root:## Performance on Validation Set after 7000 iterations\n",
      "09-Oct 20:07:01:INFO:root:---------------------------------------------------------\n",
      "09-Oct 20:07:01:INFO:root:  Square-loss (avg over 200) = 0.0055\n",
      "09-Oct 20:07:01:INFO:root:---------------------------------------------------------\n",
      "09-Oct 20:07:01:INFO:root:\n",
      "09-Oct 20:07:01:INFO:root:Saving snapshot to snapshot-007000.jld...\n",
      "09-Oct 20:07:01:WARNING:root:Overwriting Snapshots/snapshots_3/snapshot-007000.jld...\n",
      "09-Oct 20:07:01:DEBUG:root:Saving parameters for layer ip\n",
      "09-Oct 20:07:01:DEBUG:root:Saving parameters for layer ip2\n",
      "09-Oct 20:07:01:DEBUG:root:Saving parameters for layer aggregator\n",
      "09-Oct 20:07:01:INFO:root: TRAIN iter=008000 obj_val=0.00509839\n",
      "09-Oct 20:07:01:INFO:root:\n",
      "09-Oct 20:07:01:INFO:root:## Performance on Validation Set after 8000 iterations\n",
      "09-Oct 20:07:01:INFO:root:---------------------------------------------------------\n",
      "09-Oct 20:07:01:INFO:root:  Square-loss (avg over 200) = 0.0055\n",
      "09-Oct 20:07:01:INFO:root:---------------------------------------------------------\n",
      "09-Oct 20:07:01:INFO:root:\n",
      "09-Oct 20:07:01:INFO:root:Saving snapshot to snapshot-008000.jld...\n",
      "09-Oct 20:07:01:WARNING:root:Overwriting Snapshots/snapshots_3/snapshot-008000.jld...\n",
      "09-Oct 20:07:01:DEBUG:root:Saving parameters for layer ip\n",
      "09-Oct 20:07:01:DEBUG:root:Saving parameters for layer ip2\n",
      "09-Oct 20:07:01:DEBUG:root:Saving parameters for layer aggregator\n",
      "09-Oct 20:07:01:INFO:root: TRAIN iter=009000 obj_val=0.00509693\n",
      "09-Oct 20:07:01:INFO:root:\n",
      "09-Oct 20:07:01:INFO:root:## Performance on Validation Set after 9000 iterations\n",
      "09-Oct 20:07:01:INFO:root:---------------------------------------------------------\n",
      "09-Oct 20:07:01:INFO:root:  Square-loss (avg over 200) = 0.0055\n",
      "09-Oct 20:07:01:INFO:root:---------------------------------------------------------\n",
      "09-Oct 20:07:01:INFO:root:\n",
      "09-Oct 20:07:01:INFO:root:Saving snapshot to snapshot-009000.jld...\n",
      "09-Oct 20:07:01:WARNING:root:Overwriting Snapshots/snapshots_3/snapshot-009000.jld...\n",
      "09-Oct 20:07:01:DEBUG:root:Saving parameters for layer ip\n",
      "09-Oct 20:07:01:DEBUG:root:Saving parameters for layer ip2\n",
      "09-Oct 20:07:01:DEBUG:root:Saving parameters for layer aggregator\n",
      "09-Oct 20:07:01:INFO:root: TRAIN iter=010000 obj_val=0.00509568\n",
      "09-Oct 20:07:01:INFO:root:\n",
      "09-Oct 20:07:01:INFO:root:## Performance on Validation Set after 10000 iterations\n",
      "09-Oct 20:07:01:INFO:root:---------------------------------------------------------\n",
      "09-Oct 20:07:01:INFO:root:  Square-loss (avg over 200) = 0.0055\n",
      "09-Oct 20:07:01:INFO:root:---------------------------------------------------------\n",
      "09-Oct 20:07:01:INFO:root:\n",
      "09-Oct 20:07:01:INFO:root:Saving snapshot to snapshot-010000.jld...\n",
      "09-Oct 20:07:01:WARNING:root:Overwriting Snapshots/snapshots_3/snapshot-010000.jld...\n",
      "09-Oct 20:07:01:DEBUG:root:Saving parameters for layer ip\n",
      "09-Oct 20:07:01:DEBUG:root:Saving parameters for layer ip2\n",
      "09-Oct 20:07:01:DEBUG:root:Saving parameters for layer aggregator\n",
      "09-Oct 20:07:01:INFO:root:  Square-loss (avg over 1000100) = 0.0094\n"
     ]
    }
   ],
   "source": [
    "\n",
    "#datainput_train=sub(datainput,1:round(Int,(*(0.8,examples))),1:atributtes)\n",
    "#datalabels_train=sub(datalabels,1:round(Int,(*(0.8,examples))),1)\n",
    "\n",
    "#datainput_val=sub(datainput,+(round(Int,(*(0.8,examples))),1):examples,1:atributtes)\n",
    "#exa,at=size(datainput_val)\n",
    "#datalabels_val=sub(datalabels,+(round(Int,(*(0.8,examples))),1):examples,1)\n",
    "maximo=Inf\n",
    "global neurona=0\n",
    "hidden_neurons = 20\n",
    "neurona = hidden_neurons\n",
    "\n",
    "dataset2=shufflerows!(dataset)\n",
    "examples, atributes = size(dataset2)\n",
    "datainput2=dataset2[:,1:atributes-1]\n",
    "datalabels2=dataset2[:,atributes]\n",
    "datainput_train=sub(datainput2,1:round(Int,(*(0.8,examples))),1:atributes-1)\n",
    "datalabels_train=sub(datalabels2,1:round(Int,(*(0.8,examples))),1)\n",
    "\n",
    "datainput_val=sub(datainput2,+(round(Int,(*(0.8,examples))),1):examples,1:atributes-1)\n",
    "exa,at=size(datainput_val)\n",
    "datalabels_val=sub(datalabels2,+(round(Int,(*(0.8,examples))),1):examples,1)\n",
    "\n",
    "backend = CPUBackend()\n",
    "init(backend)\n",
    "\n",
    "data_train_layer = MemoryDataLayer(name=\"data\", data=Array[transpose(datainput_train), transpose(datalabels_train)], batch_size=100)\n",
    "data_val_layer = MemoryDataLayer(name=\"data\", data=Array[transpose(datainput_val), transpose(datalabels_val)], batch_size=exa)\n",
    "\n",
    "ip_layer = InnerProductLayer(name=\"ip\", output_dim=hidden_neurons, bottoms=[:data], tops=[:ip], neuron=Neurons.ReLU())\n",
    "ip2_layer = InnerProductLayer(name=\"ip2\", output_dim=hidden_neurons, bottoms=[:ip], tops=[:ip2], neuron=Neurons.ReLU())\n",
    "aggregator = InnerProductLayer(name=\"aggregator\", output_dim=1, tops=[:aggregator], bottoms=[:ip2] )\n",
    "layer_loss = SquareLossLayer(name=\"loss\", bottoms=[:aggregator, :label])\n",
    "\n",
    "common_layers = [ip_layer, ip2_layer, aggregator]\n",
    "\n",
    "net = Net(\"MLP\", backend, [data_train_layer;common_layers;layer_loss])\n",
    "\n",
    "method = Adam() # adam\n",
    "params = make_solver_parameters(method, max_iter=10000)\n",
    "solver = Solver(method, params)\n",
    "\n",
    "#setup_coffee_lounge(solver, save_into=\"Snapshots/snapshots_\"*id*\"/statistics.jld\", every_n_iter=1000)\n",
    "# report training progress every 1000 iterations\n",
    "add_coffee_break(solver, TrainingSummary(), every_n_iter=1000)\n",
    "\n",
    "val_net = Net(\"MLP\", backend, [data_val_layer;common_layers;layer_loss])\n",
    "add_coffee_break(solver, ValidationPerformance(val_net), every_n_iter=1000)  \n",
    "\n",
    "add_coffee_break(solver, Snapshot(\"Snapshots/snapshots_\"*id), every_n_iter=1000) \n",
    "solve(solver, net)\n",
    "Mocha.dump_statistics(solver.coffee_lounge, get_layer_state(net, \"loss\"), true)\n",
    "#destroy(net)\n",
    "#destroy(val_net)\n",
    "#shutdown(backend)"
   ]
  },
  {
   "cell_type": "code",
   "execution_count": 38,
   "metadata": {
    "collapsed": true
   },
   "outputs": [],
   "source": [
    "@everywhere function evaluate_test_data_with_local_models(batch_size)\n",
    "    output_predictions = zeros(batch_size)\n",
    "    id = string(2)\n",
    "    datainput = load(\"Data/data_\"*id*\"/input_test.jld\", \"dataset_input\")\n",
    "    dataoutput = load(\"Data/data_\"*id*\"/output_test.jld\", \"dataset_output\")\n",
    "\n",
    "    backend = CPUBackend()\n",
    "    init(backend)\n",
    "\n",
    "    neuro = string(20)\n",
    "    neuron_number = parse(Int,neuro)\n",
    "    data_layer = MemoryDataLayer(name=\"data\", data=Array[transpose(datainput), transpose(dataoutput)], batch_size=batch_size)\n",
    "    ip_layer = InnerProductLayer(name=\"ip\", output_dim=neuron_number, bottoms=[:data], tops=[:ip], neuron=Neurons.ReLU())\n",
    "    ip2_layer = InnerProductLayer(name=\"ip2\", output_dim=neuron_number, bottoms=[:ip], tops=[:ip2], neuron=Neurons.ReLU())\n",
    "    aggregator = InnerProductLayer(name=\"aggregator\", output_dim=1, tops=[:aggregator], bottoms=[:ip2] )\n",
    "\n",
    "    common_layers = [ip_layer, ip2_layer, aggregator]\n",
    "    net = Net(\"MLP\", backend, [data_layer; common_layers])\n",
    "    data = \"Snapshots/snapshots_\"*id*\"/snapshot-010000.jld\"\n",
    "    load_snapshot(net, data)\n",
    "    forward(net)\n",
    "    output_predictions[:] = transpose(net.output_blobs[:aggregator].data)\n",
    "    destroy(net)\n",
    "    shutdown(backend)\n",
    "\n",
    "    return output_predictions\n",
    "end"
   ]
  },
  {
   "cell_type": "code",
   "execution_count": 39,
   "metadata": {
    "collapsed": true
   },
   "outputs": [],
   "source": [
    "@everywhere function evaluate_test_data_with_local_models_nodes(nodes, batch_size)\n",
    "    output_predictions = zeros(nodes, batch_size)\n",
    "    id = string(2)\n",
    "    datainput = load(\"Data/data_\"*id*\"/input_test.jld\", \"dataset_input\")\n",
    "    dataoutput = load(\"Data/data_\"*id*\"/output_test.jld\", \"dataset_output\")\n",
    "\n",
    "    for node in 1:nodes\n",
    "        backend = CPUBackend()\n",
    "        init(backend)\n",
    "        neuron_number=20\n",
    "        data_layer = MemoryDataLayer(name=\"data\", data=Array[transpose(datainput), transpose(dataoutput)], batch_size=batch_size)\n",
    "        ip_layer = InnerProductLayer(name=\"ip\", output_dim=neuron_number, bottoms=[:data], tops=[:ip], neuron=Neurons.ReLU())\n",
    "        ip2_layer = InnerProductLayer(name=\"ip2\", output_dim=neuron_number, bottoms=[:ip], tops=[:ip2], neuron=Neurons.ReLU())\n",
    "        aggregator = InnerProductLayer(name=\"aggregator\", output_dim=1, tops=[:aggregator], bottoms=[:ip2] )\n",
    "\n",
    "        common_layers = [ip_layer, ip2_layer, aggregator]\n",
    "        net = Net(\"MLP\", backend, [data_layer; common_layers])\n",
    "        data = \"Snapshots/snapshots_\"*string(node + 1)*\"/snapshot-010000.jld\"\n",
    "        load_snapshot(net, data)\n",
    "        forward(net)\n",
    "        output_predictions[node, :] = transpose(net.output_blobs[:aggregator].data)\n",
    "        destroy(net)\n",
    "        shutdown(backend)\n",
    "    end\n",
    "\n",
    "    return output_predictions\n",
    "end"
   ]
  },
  {
   "cell_type": "code",
   "execution_count": 40,
   "metadata": {
    "collapsed": false
   },
   "outputs": [],
   "source": [
    "#datainput_train"
   ]
  },
  {
   "cell_type": "code",
   "execution_count": 41,
   "metadata": {
    "collapsed": false
   },
   "outputs": [
    {
     "name": "stdout",
     "output_type": "stream",
     "text": [
      "09-Oct 20:07:36:INFO:root:Constructing net MLP on Mocha.CPUBackend...\n",
      "09-Oct 20:07:36:INFO:root:Topological sorting 4 layers...\n",
      "09-Oct 20:07:36:INFO:root:Setup layers...\n",
      "09-Oct 20:07:36:INFO:root:Network constructed!\n",
      "09-Oct 20:07:36:INFO:root:Loading existing model from Snapshots/snapshots_2/snapshot-010000.jld\n",
      "09-Oct 20:07:36:DEBUG:root:Loading parameters for layer ip\n",
      "09-Oct 20:07:36:DEBUG:root:Loading parameters for layer ip2\n",
      "09-Oct 20:07:36:DEBUG:root:Loading parameters for layer aggregator\n",
      "09-Oct 20:07:36:DEBUG:root:Destroying network MLP\n",
      "09-Oct 20:07:36:INFO:root:Constructing net MLP on Mocha.CPUBackend...\n",
      "09-Oct 20:07:36:INFO:root:Topological sorting 4 layers...\n",
      "09-Oct 20:07:36:INFO:root:Setup layers...\n",
      "09-Oct 20:07:36:INFO:root:Network constructed!\n",
      "09-Oct 20:07:36:INFO:root:Loading existing model from Snapshots/snapshots_3/snapshot-010000.jld\n",
      "09-Oct 20:07:36:DEBUG:root:Loading parameters for layer ip\n",
      "09-Oct 20:07:36:DEBUG:root:Loading parameters for layer ip2\n",
      "09-Oct 20:07:36:DEBUG:root:Loading parameters for layer aggregator\n",
      "09-Oct 20:07:36:DEBUG:root:Destroying network MLP\n",
      "09-Oct 20:07:36:INFO:root:Constructing net MLP on Mocha.CPUBackend...\n",
      "09-Oct 20:07:36:INFO:root:Topological sorting 4 layers...\n",
      "09-Oct 20:07:36:INFO:root:Setup layers...\n",
      "09-Oct 20:07:36:INFO:root:Network constructed!\n",
      "09-Oct 20:07:36:INFO:root:Loading existing model from Snapshots/snapshots_4/snapshot-010000.jld\n",
      "09-Oct 20:07:36:DEBUG:root:Loading parameters for layer ip\n",
      "09-Oct 20:07:36:DEBUG:root:Loading parameters for layer ip2\n",
      "09-Oct 20:07:36:DEBUG:root:Loading parameters for layer aggregator\n",
      "09-Oct 20:07:36:DEBUG:root:Destroying network MLP\n",
      "09-Oct 20:07:36:INFO:root:Constructing net MLP on Mocha.CPUBackend...\n",
      "09-Oct 20:07:36:INFO:root:Topological sorting 4 layers...\n",
      "09-Oct 20:07:36:INFO:root:Setup layers...\n",
      "09-Oct 20:07:36:INFO:root:Network constructed!\n",
      "09-Oct 20:07:36:INFO:root:Loading existing model from Snapshots/snapshots_5/snapshot-010000.jld\n",
      "09-Oct 20:07:36:DEBUG:root:Loading parameters for layer ip\n",
      "09-Oct 20:07:36:DEBUG:root:Loading parameters for layer ip2\n",
      "09-Oct 20:07:36:DEBUG:root:Loading parameters for layer aggregator\n",
      "09-Oct 20:07:36:DEBUG:root:Destroying network MLP\n",
      "09-Oct 20:07:36:INFO:root:Constructing net MLP on Mocha.CPUBackend...\n",
      "09-Oct 20:07:36:INFO:root:Topological sorting 4 layers...\n",
      "09-Oct 20:07:36:INFO:root:Setup layers...\n",
      "09-Oct 20:07:36:INFO:root:Network constructed!\n",
      "09-Oct 20:07:36:INFO:root:Loading existing model from Snapshots/snapshots_2/snapshot-010000.jld\n",
      "09-Oct 20:07:36:DEBUG:root:Loading parameters for layer ip\n",
      "09-Oct 20:07:36:DEBUG:root:Loading parameters for layer ip2\n",
      "09-Oct 20:07:36:DEBUG:root:Loading parameters for layer aggregator\n",
      "09-Oct 20:07:36:DEBUG:root:Destroying network MLP\n"
     ]
    },
    {
     "data": {
      "text/plain": [
       "1000-element Array{Float64,1}:\n",
       " -0.00613278\n",
       " -0.00613278\n",
       " -0.00613278\n",
       " -0.00613278\n",
       " -0.00613278\n",
       " -0.00613278\n",
       " -0.00613278\n",
       " -0.00613278\n",
       " -0.00613278\n",
       " -0.00613278\n",
       " -0.00613278\n",
       " -0.00613278\n",
       " -0.00613278\n",
       "  ⋮         \n",
       " -0.00613278\n",
       " -0.00613278\n",
       " -0.00613278\n",
       " -0.00613278\n",
       " -0.00613278\n",
       " -0.00613278\n",
       " -0.00613278\n",
       " -0.00613278\n",
       " -0.00613278\n",
       " -0.00613278\n",
       " -0.00613278\n",
       " -0.00613278"
      ]
     },
     "execution_count": 41,
     "metadata": {},
     "output_type": "execute_result"
    }
   ],
   "source": [
    "output_nodes = evaluate_test_data_with_local_models_nodes(4, examples)\n",
    "output = evaluate_test_data_with_local_models(examples)"
   ]
  },
  {
   "cell_type": "code",
   "execution_count": 42,
   "metadata": {
    "collapsed": false
   },
   "outputs": [],
   "source": [
    "@everywhere function R2(predictions, y)\n",
    "    SSres = sum((predictions .- y).^2)\n",
    "    ymean = mean(y)\n",
    "    SStot = sum((y .- ymean).^2)\n",
    "    return 1 - (SSres/SStot)\n",
    "end"
   ]
  },
  {
   "cell_type": "code",
   "execution_count": 43,
   "metadata": {
    "collapsed": false
   },
   "outputs": [
    {
     "data": {
      "text/plain": [
       "1000-element Array{Float64,1}:\n",
       "  0.00600622\n",
       " -0.0798315 \n",
       " -0.0354346 \n",
       "  0.0452052 \n",
       "  0.135951  \n",
       " -0.15978   \n",
       "  0.0114424 \n",
       " -0.0460349 \n",
       " -0.159059  \n",
       " -0.127015  \n",
       "  0.00895155\n",
       "  0.127441  \n",
       " -0.0411595 \n",
       "  ⋮         \n",
       " -0.0626507 \n",
       "  0.171655  \n",
       "  0.0276671 \n",
       " -0.0522661 \n",
       "  0.00694757\n",
       "  0.0510112 \n",
       "  0.00466819\n",
       " -0.104247  \n",
       "  0.0142699 \n",
       "  0.12716   \n",
       " -0.121729  \n",
       "  0.0576027 "
      ]
     },
     "execution_count": 43,
     "metadata": {},
     "output_type": "execute_result"
    }
   ],
   "source": [
    "id=string(2)\n",
    "datainput = load(\"Data/data_\"*id*\"/input_test.jld\", \"dataset_input\")\n",
    "dataoutput = load(\"Data/data_\"*id*\"/output_test.jld\", \"dataset_output\")"
   ]
  },
  {
   "cell_type": "code",
   "execution_count": 44,
   "metadata": {
    "collapsed": false
   },
   "outputs": [
    {
     "data": {
      "text/plain": [
       "-0.0010081986970164"
      ]
     },
     "execution_count": 44,
     "metadata": {},
     "output_type": "execute_result"
    }
   ],
   "source": [
    "output_mean = zeros(examples)\n",
    "output_mean[:] = mean(datalabels)"
   ]
  },
  {
   "cell_type": "code",
   "execution_count": 45,
   "metadata": {
    "collapsed": false
   },
   "outputs": [
    {
     "data": {
      "text/plain": [
       "-0.00011044567726337107"
      ]
     },
     "execution_count": 45,
     "metadata": {},
     "output_type": "execute_result"
    }
   ],
   "source": [
    "R2(output_mean, dataoutput)"
   ]
  },
  {
   "cell_type": "code",
   "execution_count": 46,
   "metadata": {
    "collapsed": false
   },
   "outputs": [
    {
     "data": {
      "text/plain": [
       "-0.0018397673133603298"
      ]
     },
     "execution_count": 46,
     "metadata": {},
     "output_type": "execute_result"
    }
   ],
   "source": [
    "R2(output, dataoutput)"
   ]
  },
  {
   "cell_type": "code",
   "execution_count": 47,
   "metadata": {
    "collapsed": false
   },
   "outputs": [
    {
     "data": {
      "text/plain": [
       "-0.0018397673133603298"
      ]
     },
     "execution_count": 47,
     "metadata": {},
     "output_type": "execute_result"
    }
   ],
   "source": [
    "R2(transpose(output_nodes[1,:]), dataoutput)"
   ]
  },
  {
   "cell_type": "code",
   "execution_count": 48,
   "metadata": {
    "collapsed": true
   },
   "outputs": [],
   "source": [
    "@everywhere function MAPE(predictions, y)\n",
    "    return 100*mean(abs((y .- predictions)./y))\n",
    "end\n"
   ]
  },
  {
   "cell_type": "code",
   "execution_count": 50,
   "metadata": {
    "collapsed": false
   },
   "outputs": [
    {
     "data": {
      "text/plain": [
       "1000-element Array{Float64,1}:\n",
       " -0.012139 \n",
       "  0.0736987\n",
       "  0.0293018\n",
       " -0.0513379\n",
       " -0.142084 \n",
       "  0.153647 \n",
       " -0.0175752\n",
       "  0.0399021\n",
       "  0.152926 \n",
       "  0.120882 \n",
       " -0.0150843\n",
       " -0.133574 \n",
       "  0.0350268\n",
       "  ⋮        \n",
       "  0.0565179\n",
       " -0.177788 \n",
       " -0.0337999\n",
       "  0.0461333\n",
       " -0.0130803\n",
       " -0.057144 \n",
       " -0.010801 \n",
       "  0.0981145\n",
       " -0.0204027\n",
       " -0.133293 \n",
       "  0.115596 \n",
       " -0.0637355"
      ]
     },
     "execution_count": 50,
     "metadata": {},
     "output_type": "execute_result"
    }
   ],
   "source": [
    "(output .- dataoutput) ./ output"
   ]
  },
  {
   "cell_type": "markdown",
   "metadata": {},
   "source": [
    "# Summary Statistics"
   ]
  },
  {
   "cell_type": "code",
   "execution_count": 86,
   "metadata": {
    "collapsed": false
   },
   "outputs": [
    {
     "data": {
      "text/plain": [
       "3-element Array{Any,1}:\n",
       "  2.02381 \n",
       "  1.98807 \n",
       " -0.520823"
      ]
     },
     "execution_count": 86,
     "metadata": {},
     "output_type": "execute_result"
    }
   ],
   "source": [
    "summa = [k for k in mean(dataset,1)]\n",
    "push!(summa, kurtosis(dataset,1))"
   ]
  },
  {
   "cell_type": "code",
   "execution_count": 42,
   "metadata": {
    "collapsed": false
   },
   "outputs": [],
   "source": [
    "@everywhere function order_statistics(dataset, k=5, pow=2)\n",
    "    powers = 1:pow\n",
    "    len,attributes = size(dataset)\n",
    "    orders = [floor(Int,(len/7)*(i-1))+1 for i=1:k]\n",
    "    statistics = []\n",
    "    for attribute in 1:attributes\n",
    "        sorted = sort(dataset[:,attribute])\n",
    "        for p in powers\n",
    "            append!(statistics, [sorted[k]^p for k in orders])\n",
    "        end\n",
    "    end\n",
    "    return statistics\n",
    "end\n"
   ]
  },
  {
   "cell_type": "code",
   "execution_count": 61,
   "metadata": {
    "collapsed": false
   },
   "outputs": [
    {
     "data": {
      "text/plain": [
       "1x2 Array{Float64,2}:\n",
       " 1.45699  1.42094"
      ]
     },
     "execution_count": 61,
     "metadata": {},
     "output_type": "execute_result"
    }
   ],
   "source": [
    "1./median(abs(dataset .- median(dataset,1)),1)"
   ]
  },
  {
   "cell_type": "code",
   "execution_count": 64,
   "metadata": {
    "collapsed": false
   },
   "outputs": [
    {
     "ename": "LoadError",
     "evalue": "syntax: \"*\" is not a unary operator",
     "output_type": "error",
     "traceback": [
      "syntax: \"*\" is not a unary operator",
      ""
     ]
    }
   ],
   "source": [
    "[*[1.,2.]]"
   ]
  },
  {
   "cell_type": "code",
   "execution_count": 147,
   "metadata": {
    "collapsed": false
   },
   "outputs": [
    {
     "data": {
      "text/plain": [
       "distance (generic function with 2 methods)"
      ]
     },
     "execution_count": 147,
     "metadata": {},
     "output_type": "execute_result"
    }
   ],
   "source": [
    "function SummaryStatistics(X1,X2)\n",
    "    summary1 = mean(X1,1),var(X1,1),kurtosis(X1,1),skewness(X1,1)\n",
    "    summary2 = mean(X2,1),var(X2,1),kurtosis(X2,1),skewness(X2,1)\n",
    "    return summary1, summary2\n",
    "end\n",
    "\n",
    "function distance(X,Y,w=0)\n",
    "    if weights != 0\n",
    "        d = [((X[i] - Y[i]).*w[i]).^2 for i in 1:length(X)]\n",
    "    else\n",
    "        d = [(X[i] - Y[i]).^2 for i in 1:length(X)]\n",
    "    end\n",
    "    d = sqrt(sum([[sum(d[i]) for i in 1:length(Y)]...]))\n",
    "    return d\n",
    "end"
   ]
  },
  {
   "cell_type": "code",
   "execution_count": 149,
   "metadata": {
    "collapsed": false
   },
   "outputs": [
    {
     "data": {
      "text/plain": [
       "4-element Array{Float64,1}:\n",
       " 0.015625\n",
       " 0.046875\n",
       " 0.046875\n",
       " 0.015625"
      ]
     },
     "execution_count": 149,
     "metadata": {},
     "output_type": "execute_result"
    }
   ],
   "source": [
    "X,Y = SummaryStatistics(dataset1, dataset2)\n",
    "weights = [1,3,3,1]\n",
    "weights = weights2/sum(weights)\n",
    "weights\n",
    "#distance(X,Y,weights)"
   ]
  },
  {
   "cell_type": "code",
   "execution_count": 120,
   "metadata": {
    "collapsed": false
   },
   "outputs": [
    {
     "data": {
      "text/plain": [
       "2-element Array{Float64,1}:\n",
       " 2.86701  \n",
       " 0.0764879"
      ]
     },
     "execution_count": 120,
     "metadata": {},
     "output_type": "execute_result"
    }
   ],
   "source": [
    "s1 = mean(dataset1,1), var(dataset1,1)\n",
    "s2 = mean(dataset2,1), var(dataset2,1)\n",
    "#s2\n",
    "d = [(s1[i] - s2[i]).^2 for i in 1:length(s1)]\n",
    "d = sqrt([[sum(d[i]) for i in 1:length(d)]...])\n",
    "#sqrt(sum((dataset1 .- dataset2).^2))"
   ]
  },
  {
   "cell_type": "code",
   "execution_count": 71,
   "metadata": {
    "collapsed": false
   },
   "outputs": [
    {
     "data": {
      "text/plain": [
       "0.1882600334061122"
      ]
     },
     "execution_count": 71,
     "metadata": {},
     "output_type": "execute_result"
    }
   ],
   "source": [
    "kurtosis(dataset[:,1])"
   ]
  },
  {
   "cell_type": "code",
   "execution_count": 58,
   "metadata": {
    "collapsed": false
   },
   "outputs": [
    {
     "data": {
      "text/plain": [
       "-0.5549318327747421"
      ]
     },
     "execution_count": 58,
     "metadata": {},
     "output_type": "execute_result"
    }
   ],
   "source": [
    "dataset[1]"
   ]
  },
  {
   "cell_type": "code",
   "execution_count": 54,
   "metadata": {
    "collapsed": false
   },
   "outputs": [
    {
     "data": {
      "text/plain": [
       "0.3079493390267343"
      ]
     },
     "execution_count": 54,
     "metadata": {},
     "output_type": "execute_result"
    }
   ],
   "source": [
    "sum(dataset[1].^2)"
   ]
  },
  {
   "cell_type": "code",
   "execution_count": 7,
   "metadata": {
    "collapsed": false
   },
   "outputs": [],
   "source": [
    "using Keras\n",
    "import Keras.Layers: Dense, Activation"
   ]
  },
  {
   "cell_type": "code",
   "execution_count": 8,
   "metadata": {
    "collapsed": false
   },
   "outputs": [
    {
     "ename": "LoadError",
     "evalue": "UndefVarError: Sequential not defined",
     "output_type": "error",
     "traceback": [
      "UndefVarError: Sequential not defined",
      ""
     ]
    }
   ],
   "source": [
    "model = Sequential()"
   ]
  },
  {
   "cell_type": "code",
   "execution_count": null,
   "metadata": {
    "collapsed": true
   },
   "outputs": [],
   "source": []
  }
 ],
 "metadata": {
  "kernelspec": {
   "display_name": "Julia 0.4.5",
   "language": "julia",
   "name": "julia-0.4"
  },
  "language_info": {
   "file_extension": ".jl",
   "mimetype": "application/julia",
   "name": "julia",
   "version": "0.4.5"
  }
 },
 "nbformat": 4,
 "nbformat_minor": 0
}
